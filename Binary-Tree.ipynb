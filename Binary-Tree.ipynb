{
 "cells": [
  {
   "cell_type": "markdown",
   "metadata": {},
   "source": [
    "# Binary Tree Preorder Traversal\n",
    "\n",
    "Given a binary tree, return the preorder traversal of its nodes' values.\n",
    "\n",
    "Input: [1,null,2,3]\n",
    "   1\n",
    "    \\\n",
    "     2\n",
    "    /\n",
    "   3\n",
    "\n",
    "Output: [1,2,3]"
   ]
  },
  {
   "cell_type": "code",
   "execution_count": null,
   "metadata": {},
   "outputs": [],
   "source": [
    "class Solution(object):\n",
    "    def preorderTraversal(self, root):\n",
    "        \n",
    "        res , stack = [], [root]\n",
    "        while stack:\n",
    "            node = stack.pop()\n",
    "            if node:\n",
    "                res.append(node.val)\n",
    "                stack.append(node.right)\n",
    "                stack.append(node.left)\n",
    "        return res"
   ]
  },
  {
   "cell_type": "markdown",
   "metadata": {},
   "source": [
    "# Binary Tree Inorder Traversal\n",
    "\n",
    "Given a binary tree, return the inorder traversal of its nodes' values.\n",
    "\n",
    "Input: [1,null,2,3]\n",
    "   1\n",
    "    \\\n",
    "     2\n",
    "    /\n",
    "   3\n",
    "\n",
    "Output: [1,3,2]"
   ]
  },
  {
   "cell_type": "code",
   "execution_count": null,
   "metadata": {},
   "outputs": [],
   "source": [
    "class Solution(object):\n",
    "    def inorderTraversal(self, root):\n",
    "        \n",
    "        res = []\n",
    "        self.dfs(root, res)\n",
    "        return res\n",
    "    \n",
    "    def dfs(self, root, res):\n",
    "        if root:\n",
    "            self.dfs(root.left, res)\n",
    "            res.append(root.val)\n",
    "            self.dfs(root.right, res)\n",
    "        return res"
   ]
  },
  {
   "cell_type": "markdown",
   "metadata": {},
   "source": [
    "# Binary Tree Postorder Traversal\n",
    "\n",
    "Given a binary tree, return the postorder traversal of its nodes' values.\n",
    "\n",
    "Input: [1,null,2,3]\n",
    "   1\n",
    "    \\\n",
    "     2\n",
    "    /\n",
    "   3\n",
    "\n",
    "Output: [3,2,1]"
   ]
  },
  {
   "cell_type": "code",
   "execution_count": null,
   "metadata": {},
   "outputs": [],
   "source": [
    "class Solution(object):\n",
    "    def postorderTraversal(self, root):\n",
    "        \n",
    "        res = []\n",
    "        self.dfs(root, res)\n",
    "        return res\n",
    "    \n",
    "    def dfs(self, root, res):\n",
    "        if root:\n",
    "            self.dfs(root.left, res)\n",
    "            self.dfs(root.right, res)\n",
    "            res.append(root.val)\n",
    "        return res"
   ]
  },
  {
   "cell_type": "markdown",
   "metadata": {},
   "source": [
    "# Binary Tree Level Order Traversal\n",
    "\n",
    "Given a binary tree, return the level order traversal of its nodes' values. (ie, from left to right, level by level).\n",
    "\n",
    "Given binary tree [3,9,20,null,null,15,7],\n",
    "    3\n",
    "   / \\\n",
    "  9  20\n",
    "    /  \\\n",
    "   15   7\n",
    "return its level order traversal as:\n",
    "[\n",
    "  [3],\n",
    "  [9,20],\n",
    "  [15,7]\n",
    "]"
   ]
  },
  {
   "cell_type": "code",
   "execution_count": null,
   "metadata": {},
   "outputs": [],
   "source": [
    "class Solution(object):\n",
    "    def levelOrder(self, root):\n",
    "        \n",
    "        res = []\n",
    "        self.dfs(root, 0, res)\n",
    "        return res\n",
    "    \n",
    "    def dfs(self, root, level, res):\n",
    "        if root is None:\n",
    "            return \n",
    "        if len(res) <= level:\n",
    "            res.append([])\n",
    "        res[level].append(root.val)\n",
    "        self.dfs(root.left, level+1, res)\n",
    "        self.dfs(root.right, level+1, res)\n",
    "        return res"
   ]
  },
  {
   "cell_type": "markdown",
   "metadata": {},
   "source": [
    "# Maximum Depth of Binary Tree\n",
    "\n",
    "Given a binary tree, find its maximum depth.\n",
    "\n",
    "The maximum depth is the number of nodes along the longest path from the root node down to the farthest leaf node.\n",
    "\n",
    "Note: A leaf is a node with no children.\n",
    "\n",
    "Given binary tree [3,9,20,null,null,15,7],\n",
    "\n",
    "    3\n",
    "   / \\\n",
    "  9  20\n",
    "    /  \\\n",
    "   15   7"
   ]
  },
  {
   "cell_type": "code",
   "execution_count": null,
   "metadata": {},
   "outputs": [],
   "source": [
    "class Solution(object):\n",
    "    def maxDepth(self, root):\n",
    "        \n",
    "        if not root:\n",
    "            return 0\n",
    "        return max(self.maxDepth(root.left),self.maxDepth(root.right) ) + 1"
   ]
  },
  {
   "cell_type": "markdown",
   "metadata": {},
   "source": [
    "# Symmetric Tree\n",
    "\n",
    "Given a binary tree, check whether it is a mirror of itself (ie, symmetric around its center).\n",
    "\n",
    "For example, this binary tree [1,2,2,3,4,4,3] is symmetric:\n",
    "\n",
    "    1\n",
    "   / \\\n",
    "  2   2\n",
    " / \\ / \\\n",
    "3  4 4  3"
   ]
  },
  {
   "cell_type": "code",
   "execution_count": null,
   "metadata": {},
   "outputs": [],
   "source": [
    "class Solution(object):\n",
    "    def isSymmetric(self, root):\n",
    "        \n",
    "        if not root:\n",
    "            return True\n",
    "        return self.helper(root.left, root.right)\n",
    "    def helper(self, l,r):\n",
    "        if l and r:\n",
    "            return l.val == r.val and self.helper(l.left,r.right) and self.helper(l.right, r.left)\n",
    "        return l ==r"
   ]
  },
  {
   "cell_type": "markdown",
   "metadata": {},
   "source": [
    "# Path Sum\n",
    "\n",
    "Given a binary tree and a sum, determine if the tree has a root-to-leaf path such that adding up all the values along the path equals the given sum.\n",
    "\n",
    "Note: A leaf is a node with no children.\n",
    "\n",
    "Given the below binary tree and sum = 22,\n",
    "\n",
    "      5\n",
    "     / \\\n",
    "    4   8\n",
    "   /   / \\\n",
    "  11  13  4\n",
    " /  \\      \\\n",
    "7    2      1\n",
    "return true, as there exist a root-to-leaf path 5->4->11->2 which sum is 22."
   ]
  },
  {
   "cell_type": "code",
   "execution_count": null,
   "metadata": {},
   "outputs": [],
   "source": [
    "class Solution(object):\n",
    "    def hasPathSum(self, root, sum):\n",
    "        \n",
    "        if not root:\n",
    "            return False\n",
    "        if not root.left and not root.right and root.val ==sum:\n",
    "            return True\n",
    "        sum -= root.val\n",
    "        return self.hasPathSum(root.left, sum) or self.hasPathSum(root.right, sum)"
   ]
  },
  {
   "cell_type": "markdown",
   "metadata": {},
   "source": [
    "# Count Univalue Subtrees\n",
    "\n",
    "Given a binary tree, count the number of uni-value subtrees.\n",
    "\n",
    "A Uni-value subtree means all nodes of the subtree have the same value.\n",
    "\n",
    "Input:  root = [5,1,5,5,5,null,5]\n",
    "\n",
    "              5\n",
    "             / \\\n",
    "            1   5\n",
    "           / \\   \\\n",
    "          5   5   5\n",
    "\n",
    "Output: 4"
   ]
  },
  {
   "cell_type": "code",
   "execution_count": null,
   "metadata": {},
   "outputs": [],
   "source": [
    "class Solution(object):\n",
    "    def countUnivalSubtrees(self, root):\n",
    "        \n",
    "        self.count = 0\n",
    "        \n",
    "        def helper(root):\n",
    "            if not root:\n",
    "                return\n",
    "            left = helper(root.left)\n",
    "            right = helper(root.right)\n",
    "            if (not left or left == root.val) and (not right or right == root.val):\n",
    "                self.count += 1\n",
    "                return root.val\n",
    "            return '#'    \n",
    "        \n",
    "        helper(root)    \n",
    "        return self.count"
   ]
  },
  {
   "cell_type": "markdown",
   "metadata": {},
   "source": [
    "# Construct Binary Tree from Inorder and Postorder Traversal\n",
    "\n",
    "Given inorder and postorder traversal of a tree, construct the binary tree.\n",
    "\n",
    "You may assume that duplicates do not exist in the tree.\n",
    "\n",
    "inorder = [9,3,15,20,7]\n",
    "postorder = [9,15,7,20,3]\n",
    "Return the following binary tree:\n",
    "\n",
    "    3\n",
    "   / \\\n",
    "  9  20\n",
    "    /  \\\n",
    "   15   7"
   ]
  },
  {
   "cell_type": "code",
   "execution_count": null,
   "metadata": {},
   "outputs": [],
   "source": [
    "class Solution(object):\n",
    "    def buildTree(self, inorder, postorder):\n",
    "        \n",
    "        if not inorder or not postorder:\n",
    "            return None\n",
    "        \n",
    "        root = TreeNode(postorder.pop())\n",
    "        inorderIndex = inorder.index(root.val)\n",
    "\n",
    "        root.right = self.buildTree(inorder[inorderIndex+1:], postorder)\n",
    "        root.left = self.buildTree(inorder[:inorderIndex], postorder)\n",
    "\n",
    "        return root"
   ]
  },
  {
   "cell_type": "markdown",
   "metadata": {},
   "source": [
    "# Populating Next Right Pointers in Each Node\n",
    "\n",
    "You are given a perfect binary tree where all leaves are on the same level, and every parent has two children. The binary tree has the following definition:\n",
    "\n",
    "struct Node {\n",
    "  int val;\n",
    "  Node *left;\n",
    "  Node *right;\n",
    "  Node *next;\n",
    "}\n",
    "Populate each next pointer to point to its next right node. If there is no next right node, the next pointer should be set to NULL.\n",
    "\n",
    "Initially, all next pointers are set to NULL."
   ]
  },
  {
   "cell_type": "code",
   "execution_count": null,
   "metadata": {},
   "outputs": [],
   "source": [
    "class Solution(object):\n",
    "    def connect(self, root):\n",
    "        \n",
    "        if not root:\n",
    "            return None\n",
    "        cur  = root\n",
    "        next = root.left\n",
    "\n",
    "        while cur.left :\n",
    "            cur.left.next = cur.right\n",
    "            if cur.next:\n",
    "                cur.right.next = cur.next.left\n",
    "                cur = cur.next\n",
    "            else:\n",
    "                cur = next\n",
    "                next = cur.left\n",
    "        return root\n",
    "        "
   ]
  },
  {
   "cell_type": "markdown",
   "metadata": {},
   "source": [
    "# Lowest Common Ancestor of a Binary Tree\n",
    "\n",
    "Given a binary tree, find the lowest common ancestor (LCA) of two given nodes in the tree.\n",
    "\n",
    "According to the definition of LCA on Wikipedia: “The lowest common ancestor is defined between two nodes p and q as the lowest node in T that has both p and q as descendants (where we allow a node to be a descendant of itself).”\n",
    "\n",
    "Given the following binary tree:  root = [3,5,1,6,2,0,8,null,null,7,4]\n",
    "\n",
    "Input: root = [3,5,1,6,2,0,8,null,null,7,4], p = 5, q = 1\n",
    "Output: 3\n",
    "Explanation: The LCA of nodes 5 and 1 is 3."
   ]
  },
  {
   "cell_type": "code",
   "execution_count": null,
   "metadata": {},
   "outputs": [],
   "source": [
    "class Solution(object):\n",
    "    def lowestCommonAncestor(self, root, p, q):\n",
    "        \n",
    "        if root ==p or root ==q:\n",
    "            return root\n",
    "        \n",
    "        left = right =None\n",
    "        \n",
    "        if root.left:\n",
    "            left = self.lowestCommonAncestor(root.left, p,q)\n",
    "        if root.right:\n",
    "            right = self.lowestCommonAncestor(root.right,p,q)\n",
    "        if left and right:\n",
    "            return root\n",
    "        else:\n",
    "            return left or right"
   ]
  },
  {
   "cell_type": "markdown",
   "metadata": {},
   "source": [
    "# Serialize and Deserialize Binary Tree\n",
    "\n",
    "Serialization is the process of converting a data structure or object into a sequence of bits so that it can be stored in a file or memory buffer, or transmitted across a network connection link to be reconstructed later in the same or another computer environment.\n",
    "\n",
    "Design an algorithm to serialize and deserialize a binary tree. There is no restriction on how your serialization/deserialization algorithm should work. You just need to ensure that a binary tree can be serialized to a string and this string can be deserialized to the original tree structure.\n",
    "\n",
    "You may serialize the following tree:\n",
    "\n",
    "    1\n",
    "   / \\\n",
    "  2   3\n",
    "     / \\\n",
    "    4   5\n",
    "\n",
    "as \"[1,2,3,null,null,4,5]\""
   ]
  },
  {
   "cell_type": "code",
   "execution_count": null,
   "metadata": {},
   "outputs": [],
   "source": [
    "class Codec:\n",
    "\n",
    "    def serialize(self, root):\n",
    "        \n",
    "        def helper(root, string):\n",
    "            \"\"\" a recursive helper function for the serialize() function.\"\"\"\n",
    "            # check base case\n",
    "            if root is None:\n",
    "                string += 'None,'\n",
    "            else:\n",
    "                string += str(root.val) + ','\n",
    "                string = helper(root.left, string)\n",
    "                string = helper(root.right, string)\n",
    "            return string\n",
    "        \n",
    "        return helper(root, '')\n",
    "        \n",
    "        \n",
    "    def deserialize(self, data):\n",
    "        \n",
    "        def helper1(l):\n",
    "            if l[0] == 'None':\n",
    "                l.pop(0)\n",
    "                return None\n",
    "        \n",
    "            \n",
    "            root = TreeNode(l[0])\n",
    "            l.pop(0)\n",
    "            root.left = helper1(l)\n",
    "            root.right = helper1(l)\n",
    "            return root\n",
    "        \n",
    "        data_list = data.split(',')\n",
    "        root = helper1(data_list)\n",
    "        return root"
   ]
  }
 ],
 "metadata": {
  "kernelspec": {
   "display_name": "Python 3",
   "language": "python",
   "name": "python3"
  },
  "language_info": {
   "codemirror_mode": {
    "name": "ipython",
    "version": 3
   },
   "file_extension": ".py",
   "mimetype": "text/x-python",
   "name": "python",
   "nbconvert_exporter": "python",
   "pygments_lexer": "ipython3",
   "version": "3.7.3"
  }
 },
 "nbformat": 4,
 "nbformat_minor": 2
}
